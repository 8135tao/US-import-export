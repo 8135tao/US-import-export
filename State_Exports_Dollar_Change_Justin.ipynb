{
 "cells": [
  {
   "cell_type": "code",
   "execution_count": 1,
   "metadata": {},
   "outputs": [],
   "source": [
    "# Dependencies\n",
    "import pandas as pd\n",
    "import numpy as np\n",
    "import matplotlib.pyplot as plt"
   ]
  },
  {
   "cell_type": "code",
   "execution_count": 2,
   "metadata": {},
   "outputs": [],
   "source": [
    "# Store filepath in a variable\n",
    "file_one = \"Exports_State.csv\""
   ]
  },
  {
   "cell_type": "code",
   "execution_count": 3,
   "metadata": {},
   "outputs": [
    {
     "data": {
      "text/html": [
       "<div>\n",
       "<style scoped>\n",
       "    .dataframe tbody tr th:only-of-type {\n",
       "        vertical-align: middle;\n",
       "    }\n",
       "\n",
       "    .dataframe tbody tr th {\n",
       "        vertical-align: top;\n",
       "    }\n",
       "\n",
       "    .dataframe thead th {\n",
       "        text-align: right;\n",
       "    }\n",
       "</style>\n",
       "<table border=\"1\" class=\"dataframe\">\n",
       "  <thead>\n",
       "    <tr style=\"text-align: right;\">\n",
       "      <th></th>\n",
       "      <th>State</th>\n",
       "      <th>2007</th>\n",
       "      <th>2008</th>\n",
       "      <th>2009</th>\n",
       "      <th>2010</th>\n",
       "      <th>2011</th>\n",
       "      <th>2012</th>\n",
       "      <th>2013</th>\n",
       "      <th>2014</th>\n",
       "      <th>2015</th>\n",
       "      <th>2016</th>\n",
       "      <th>2017</th>\n",
       "      <th>% Change</th>\n",
       "    </tr>\n",
       "  </thead>\n",
       "  <tbody>\n",
       "    <tr>\n",
       "      <th>0</th>\n",
       "      <td>UNITED STATES</td>\n",
       "      <td>1148198722191</td>\n",
       "      <td>1287441996730</td>\n",
       "      <td>1056042963028</td>\n",
       "      <td>1278494525839</td>\n",
       "      <td>1482507755226</td>\n",
       "      <td>1545820839892</td>\n",
       "      <td>1578516879950</td>\n",
       "      <td>1621873792910</td>\n",
       "      <td>1503328349746</td>\n",
       "      <td>1451023529686</td>\n",
       "      <td>1546272961061</td>\n",
       "      <td>34.669455</td>\n",
       "    </tr>\n",
       "    <tr>\n",
       "      <th>1</th>\n",
       "      <td>Texas</td>\n",
       "      <td>168228620315</td>\n",
       "      <td>192221780916</td>\n",
       "      <td>162994740450</td>\n",
       "      <td>206992356499</td>\n",
       "      <td>251104278477</td>\n",
       "      <td>264664928203</td>\n",
       "      <td>277715515839</td>\n",
       "      <td>285559318623</td>\n",
       "      <td>248780410089</td>\n",
       "      <td>231310075313</td>\n",
       "      <td>264541375151</td>\n",
       "      <td>57.251111</td>\n",
       "    </tr>\n",
       "    <tr>\n",
       "      <th>2</th>\n",
       "      <td>California</td>\n",
       "      <td>134318906761</td>\n",
       "      <td>144805748349</td>\n",
       "      <td>120079965765</td>\n",
       "      <td>143208226608</td>\n",
       "      <td>159421393886</td>\n",
       "      <td>161757310648</td>\n",
       "      <td>168191551560</td>\n",
       "      <td>173868587862</td>\n",
       "      <td>165360377800</td>\n",
       "      <td>163438922625</td>\n",
       "      <td>172012424917</td>\n",
       "      <td>28.062705</td>\n",
       "    </tr>\n",
       "    <tr>\n",
       "      <th>3</th>\n",
       "      <td>New York</td>\n",
       "      <td>71115801477</td>\n",
       "      <td>81385735231</td>\n",
       "      <td>58743030056</td>\n",
       "      <td>69684943969</td>\n",
       "      <td>84999347161</td>\n",
       "      <td>81337507054</td>\n",
       "      <td>86407154917</td>\n",
       "      <td>88834326287</td>\n",
       "      <td>83124545673</td>\n",
       "      <td>76690176622</td>\n",
       "      <td>77914558985</td>\n",
       "      <td>9.560122</td>\n",
       "    </tr>\n",
       "    <tr>\n",
       "      <th>4</th>\n",
       "      <td>Washington</td>\n",
       "      <td>52089477068</td>\n",
       "      <td>54498049919</td>\n",
       "      <td>51850856743</td>\n",
       "      <td>53345329885</td>\n",
       "      <td>64800272158</td>\n",
       "      <td>75654307226</td>\n",
       "      <td>81629977930</td>\n",
       "      <td>90558268785</td>\n",
       "      <td>86374679575</td>\n",
       "      <td>79553463482</td>\n",
       "      <td>76413737305</td>\n",
       "      <td>46.697071</td>\n",
       "    </tr>\n",
       "  </tbody>\n",
       "</table>\n",
       "</div>"
      ],
      "text/plain": [
       "           State           2007           2008           2009           2010  \\\n",
       "0  UNITED STATES  1148198722191  1287441996730  1056042963028  1278494525839   \n",
       "1          Texas   168228620315   192221780916   162994740450   206992356499   \n",
       "2     California   134318906761   144805748349   120079965765   143208226608   \n",
       "3       New York    71115801477    81385735231    58743030056    69684943969   \n",
       "4     Washington    52089477068    54498049919    51850856743    53345329885   \n",
       "\n",
       "            2011           2012           2013           2014           2015  \\\n",
       "0  1482507755226  1545820839892  1578516879950  1621873792910  1503328349746   \n",
       "1   251104278477   264664928203   277715515839   285559318623   248780410089   \n",
       "2   159421393886   161757310648   168191551560   173868587862   165360377800   \n",
       "3    84999347161    81337507054    86407154917    88834326287    83124545673   \n",
       "4    64800272158    75654307226    81629977930    90558268785    86374679575   \n",
       "\n",
       "            2016           2017   % Change  \n",
       "0  1451023529686  1546272961061  34.669455  \n",
       "1   231310075313   264541375151  57.251111  \n",
       "2   163438922625   172012424917  28.062705  \n",
       "3    76690176622    77914558985   9.560122  \n",
       "4    79553463482    76413737305  46.697071  "
      ]
     },
     "execution_count": 3,
     "metadata": {},
     "output_type": "execute_result"
    }
   ],
   "source": [
    "# Read our Data file with the pandas library\n",
    "file_one_df = pd.read_csv(file_one)\n",
    "file_one_df.head()\n",
    "file_one_df['% Change'] = (file_one_df['2017'] - file_one_df['2007']) / file_one_df['2007']*100\n",
    "file_one_df.head()"
   ]
  },
  {
   "cell_type": "code",
   "execution_count": 4,
   "metadata": {},
   "outputs": [],
   "source": [
    "#top 5 positive percent increase states\n",
    "sorted_df = file_one_df.sort_values(by=\"% Change\", ascending=False)\n",
    "positive_states_df = sorted_df[0:5]\n"
   ]
  },
  {
   "cell_type": "code",
   "execution_count": 5,
   "metadata": {},
   "outputs": [],
   "source": [
    "#top 5 negative percent increase states\n",
    "sorted_df = file_one_df.sort_values(by=\"% Change\")\n",
    "negative_states_df = sorted_df[0:5]\n"
   ]
  },
  {
   "cell_type": "code",
   "execution_count": 6,
   "metadata": {},
   "outputs": [
    {
     "data": {
      "image/png": "[encoded data removed]",
      "text/plain": [
       "<Figure size 576x360 with 1 Axes>"
      ]
     },
     "metadata": {},
     "output_type": "display_data"
    }
   ],
   "source": [
    "\n",
    "# Plot the unemployment values for a single country\n",
    "plt.figure(figsize=(8,5))\n",
    "plt.bar(positive_states_df['State'], positive_states_df['% Change'], color=['g'])\n",
    "\n",
    "plt.ylabel(\"change over 10 years (%)\", fontsize = 12)\n",
    "plt.title(\"Top 5 states with most positive % change over 10 years\", fontsize = 15)\n",
    "#Save the figure\n",
    "plt.savefig(\"Top5_States_with_positive%.png\")\n",
    "\n"
   ]
  },
  {
   "cell_type": "code",
   "execution_count": 7,
   "metadata": {},
   "outputs": [
    {
     "data": {
      "text/html": [
       "<div>\n",
       "<style scoped>\n",
       "    .dataframe tbody tr th:only-of-type {\n",
       "        vertical-align: middle;\n",
       "    }\n",
       "\n",
       "    .dataframe tbody tr th {\n",
       "        vertical-align: top;\n",
       "    }\n",
       "\n",
       "    .dataframe thead th {\n",
       "        text-align: right;\n",
       "    }\n",
       "</style>\n",
       "<table border=\"1\" class=\"dataframe\">\n",
       "  <thead>\n",
       "    <tr style=\"text-align: right;\">\n",
       "      <th></th>\n",
       "      <th>State</th>\n",
       "      <th>2007</th>\n",
       "      <th>2008</th>\n",
       "      <th>2009</th>\n",
       "      <th>2010</th>\n",
       "      <th>2011</th>\n",
       "      <th>2012</th>\n",
       "      <th>2013</th>\n",
       "      <th>2014</th>\n",
       "      <th>2015</th>\n",
       "      <th>2016</th>\n",
       "      <th>2017</th>\n",
       "      <th>% Change</th>\n",
       "    </tr>\n",
       "  </thead>\n",
       "  <tbody>\n",
       "    <tr>\n",
       "      <th>43</th>\n",
       "      <td>Vermont</td>\n",
       "      <td>3684920270</td>\n",
       "      <td>3697411932</td>\n",
       "      <td>3219270656</td>\n",
       "      <td>4278137163</td>\n",
       "      <td>4274554194</td>\n",
       "      <td>4139192306</td>\n",
       "      <td>4026539545</td>\n",
       "      <td>3669605649</td>\n",
       "      <td>3176353744</td>\n",
       "      <td>2993022013</td>\n",
       "      <td>2775987127</td>\n",
       "      <td>-24.666291</td>\n",
       "    </tr>\n",
       "    <tr>\n",
       "      <th>37</th>\n",
       "      <td>Idaho</td>\n",
       "      <td>4703433247</td>\n",
       "      <td>5005251812</td>\n",
       "      <td>3877389493</td>\n",
       "      <td>5156539809</td>\n",
       "      <td>5912953426</td>\n",
       "      <td>6119917408</td>\n",
       "      <td>5789446916</td>\n",
       "      <td>5137755733</td>\n",
       "      <td>4302089548</td>\n",
       "      <td>4876935097</td>\n",
       "      <td>3864104256</td>\n",
       "      <td>-17.845028</td>\n",
       "    </tr>\n",
       "    <tr>\n",
       "      <th>21</th>\n",
       "      <td>Puerto Rico</td>\n",
       "      <td>18078284156</td>\n",
       "      <td>19961283553</td>\n",
       "      <td>20937064690</td>\n",
       "      <td>22783517073</td>\n",
       "      <td>18218793751</td>\n",
       "      <td>18689534048</td>\n",
       "      <td>19965846341</td>\n",
       "      <td>20280625808</td>\n",
       "      <td>20179478921</td>\n",
       "      <td>19871938080</td>\n",
       "      <td>15876024187</td>\n",
       "      <td>-12.181798</td>\n",
       "    </tr>\n",
       "    <tr>\n",
       "      <th>49</th>\n",
       "      <td>South Dakota</td>\n",
       "      <td>1509876310</td>\n",
       "      <td>1653712654</td>\n",
       "      <td>1010960601</td>\n",
       "      <td>1259405035</td>\n",
       "      <td>1461508120</td>\n",
       "      <td>1557347169</td>\n",
       "      <td>1582153214</td>\n",
       "      <td>1577588645</td>\n",
       "      <td>1420507519</td>\n",
       "      <td>1218050215</td>\n",
       "      <td>1359713826</td>\n",
       "      <td>-9.945350</td>\n",
       "    </tr>\n",
       "    <tr>\n",
       "      <th>23</th>\n",
       "      <td>Virginia</td>\n",
       "      <td>16864469904</td>\n",
       "      <td>18941608711</td>\n",
       "      <td>15052091034</td>\n",
       "      <td>17168563818</td>\n",
       "      <td>18124713206</td>\n",
       "      <td>18276950734</td>\n",
       "      <td>17896130606</td>\n",
       "      <td>19390790669</td>\n",
       "      <td>17801081926</td>\n",
       "      <td>16310984553</td>\n",
       "      <td>16508625655</td>\n",
       "      <td>-2.110023</td>\n",
       "    </tr>\n",
       "  </tbody>\n",
       "</table>\n",
       "</div>"
      ],
      "text/plain": [
       "           State         2007         2008         2009         2010  \\\n",
       "43       Vermont   3684920270   3697411932   3219270656   4278137163   \n",
       "37         Idaho   4703433247   5005251812   3877389493   5156539809   \n",
       "21   Puerto Rico  18078284156  19961283553  20937064690  22783517073   \n",
       "49  South Dakota   1509876310   1653712654   1010960601   1259405035   \n",
       "23      Virginia  16864469904  18941608711  15052091034  17168563818   \n",
       "\n",
       "           2011         2012         2013         2014         2015  \\\n",
       "43   4274554194   4139192306   4026539545   3669605649   3176353744   \n",
       "37   5912953426   6119917408   5789446916   5137755733   4302089548   \n",
       "21  18218793751  18689534048  19965846341  20280625808  20179478921   \n",
       "49   1461508120   1557347169   1582153214   1577588645   1420507519   \n",
       "23  18124713206  18276950734  17896130606  19390790669  17801081926   \n",
       "\n",
       "           2016         2017   % Change  \n",
       "43   2993022013   2775987127 -24.666291  \n",
       "37   4876935097   3864104256 -17.845028  \n",
       "21  19871938080  15876024187 -12.181798  \n",
       "49   1218050215   1359713826  -9.945350  \n",
       "23  16310984553  16508625655  -2.110023  "
      ]
     },
     "execution_count": 7,
     "metadata": {},
     "output_type": "execute_result"
    }
   ],
   "source": [
    "#negative_states\n",
    "sorted_ascending_df = file_one_df.sort_values(by=\"% Change\")\n",
    "negative_states_df = sorted_ascending_df[0:5]\n",
    "negative_states_df\n",
    "\n"
   ]
  },
  {
   "cell_type": "code",
   "execution_count": 8,
   "metadata": {},
   "outputs": [
    {
     "data": {
      "image/png": "[encoded data removed]",
      "text/plain": [
       "<Figure size 576x360 with 1 Axes>"
      ]
     },
     "metadata": {},
     "output_type": "display_data"
    }
   ],
   "source": [
    "\n",
    "plt.figure(figsize=(8,5))\n",
    "plt.bar(negative_states_df['State'], negative_states_df['% Change'], color=['r'])\n",
    "plt.ylabel(\"change over 10 years (%)\", fontsize = 12)\n",
    "plt.title(\"Top 5 states with most negative % change over 10 years\", fontsize = 15)\n",
    "#Save the figure\n",
    "plt.savefig(\"Top5_States_with_negative%.png\")"
   ]
  },
  {
   "cell_type": "code",
   "execution_count": 9,
   "metadata": {},
   "outputs": [
    {
     "data": {
      "text/html": [
       "<div>\n",
       "<style scoped>\n",
       "    .dataframe tbody tr th:only-of-type {\n",
       "        vertical-align: middle;\n",
       "    }\n",
       "\n",
       "    .dataframe tbody tr th {\n",
       "        vertical-align: top;\n",
       "    }\n",
       "\n",
       "    .dataframe thead th {\n",
       "        text-align: right;\n",
       "    }\n",
       "</style>\n",
       "<table border=\"1\" class=\"dataframe\">\n",
       "  <thead>\n",
       "    <tr style=\"text-align: right;\">\n",
       "      <th></th>\n",
       "      <th>2007</th>\n",
       "      <th>2017</th>\n",
       "    </tr>\n",
       "    <tr>\n",
       "      <th>State</th>\n",
       "      <th></th>\n",
       "      <th></th>\n",
       "    </tr>\n",
       "  </thead>\n",
       "  <tbody>\n",
       "    <tr>\n",
       "      <th>North Dakota</th>\n",
       "      <td>2046659843</td>\n",
       "      <td>5835485591</td>\n",
       "    </tr>\n",
       "    <tr>\n",
       "      <th>Nevada</th>\n",
       "      <td>5713833904</td>\n",
       "      <td>12162489116</td>\n",
       "    </tr>\n",
       "    <tr>\n",
       "      <th>Mississippi</th>\n",
       "      <td>5184420753</td>\n",
       "      <td>10994562973</td>\n",
       "    </tr>\n",
       "    <tr>\n",
       "      <th>South Carolina</th>\n",
       "      <td>16575455732</td>\n",
       "      <td>32199071485</td>\n",
       "    </tr>\n",
       "    <tr>\n",
       "      <th>Louisiana</th>\n",
       "      <td>30318911145</td>\n",
       "      <td>57005306097</td>\n",
       "    </tr>\n",
       "  </tbody>\n",
       "</table>\n",
       "</div>"
      ],
      "text/plain": [
       "                       2007         2017\n",
       "State                                   \n",
       "North Dakota     2046659843   5835485591\n",
       "Nevada           5713833904  12162489116\n",
       "Mississippi      5184420753  10994562973\n",
       "South Carolina  16575455732  32199071485\n",
       "Louisiana       30318911145  57005306097"
      ]
     },
     "execution_count": 9,
     "metadata": {},
     "output_type": "execute_result"
    }
   ],
   "source": [
    "State_diff_df = positive_states_df[['State','2007','2017']]\n",
    "positive_state_diff_df = State_diff_df.set_index(\"State\")\n",
    "positive_state_diff_df"
   ]
  },
  {
   "cell_type": "code",
   "execution_count": 26,
   "metadata": {},
   "outputs": [
    {
     "data": {
      "text/plain": [
       "Text(0.5, 1.0, 'Top 5 States with positive change in 10 Years')"
      ]
     },
     "execution_count": 26,
     "metadata": {},
     "output_type": "execute_result"
    },
    {
     "data": {
      "image/png": "[encoded data removed]",
      "text/plain": [
       "<Figure size 1008x720 with 1 Axes>"
      ]
     },
     "metadata": {},
     "output_type": "display_data"
    }
   ],
   "source": [
    "\n",
    "positive_state_diff_df.plot(kind = \"bar\", color = ['b','g'], figsize=(14,10))\n",
    "plt.title(\"Top 5 States with positive change in 10 Years\", fontsize = 15)\n",
    "\n",
    "#Save the figure\n",
    "plt.savefig(\"2007_2017_positive_comparison.png\")"
   ]
  },
  {
   "cell_type": "code",
   "execution_count": 11,
   "metadata": {},
   "outputs": [
    {
     "data": {
      "text/html": [
       "<div>\n",
       "<style scoped>\n",
       "    .dataframe tbody tr th:only-of-type {\n",
       "        vertical-align: middle;\n",
       "    }\n",
       "\n",
       "    .dataframe tbody tr th {\n",
       "        vertical-align: top;\n",
       "    }\n",
       "\n",
       "    .dataframe thead th {\n",
       "        text-align: right;\n",
       "    }\n",
       "</style>\n",
       "<table border=\"1\" class=\"dataframe\">\n",
       "  <thead>\n",
       "    <tr style=\"text-align: right;\">\n",
       "      <th></th>\n",
       "      <th>2007</th>\n",
       "      <th>2017</th>\n",
       "    </tr>\n",
       "    <tr>\n",
       "      <th>State</th>\n",
       "      <th></th>\n",
       "      <th></th>\n",
       "    </tr>\n",
       "  </thead>\n",
       "  <tbody>\n",
       "    <tr>\n",
       "      <th>Vermont</th>\n",
       "      <td>3684920270</td>\n",
       "      <td>2775987127</td>\n",
       "    </tr>\n",
       "    <tr>\n",
       "      <th>Idaho</th>\n",
       "      <td>4703433247</td>\n",
       "      <td>3864104256</td>\n",
       "    </tr>\n",
       "    <tr>\n",
       "      <th>Puerto Rico</th>\n",
       "      <td>18078284156</td>\n",
       "      <td>15876024187</td>\n",
       "    </tr>\n",
       "    <tr>\n",
       "      <th>South Dakota</th>\n",
       "      <td>1509876310</td>\n",
       "      <td>1359713826</td>\n",
       "    </tr>\n",
       "    <tr>\n",
       "      <th>Virginia</th>\n",
       "      <td>16864469904</td>\n",
       "      <td>16508625655</td>\n",
       "    </tr>\n",
       "  </tbody>\n",
       "</table>\n",
       "</div>"
      ],
      "text/plain": [
       "                     2007         2017\n",
       "State                                 \n",
       "Vermont        3684920270   2775987127\n",
       "Idaho          4703433247   3864104256\n",
       "Puerto Rico   18078284156  15876024187\n",
       "South Dakota   1509876310   1359713826\n",
       "Virginia      16864469904  16508625655"
      ]
     },
     "execution_count": 11,
     "metadata": {},
     "output_type": "execute_result"
    }
   ],
   "source": [
    "n_State_diff_df = negative_states_df[['State','2007','2017']]\n",
    "negative_state_diff_df = n_State_diff_df.set_index(\"State\")\n",
    "negative_state_diff_df"
   ]
  },
  {
   "cell_type": "code",
   "execution_count": 24,
   "metadata": {},
   "outputs": [
    {
     "data": {
      "text/plain": [
       "Text(0.5, 1.0, 'Top 5 States with negative change in 10 Years')"
      ]
     },
     "execution_count": 24,
     "metadata": {},
     "output_type": "execute_result"
    },
    {
     "data": {
      "image/png": "[encoded data removed]",
      "text/plain": [
       "<Figure size 1008x720 with 1 Axes>"
      ]
     },
     "metadata": {},
     "output_type": "display_data"
    }
   ],
   "source": [
    "negative_state_diff_df.plot(kind = \"bar\", color = ['orange','r'], figsize=(14,10))\n",
    "plt.title(\"Top 5 States with negative change in 10 Years\", fontsize = 15)\n",
    "\n",
    "#Save the figure\n",
    "plt.savefig(\"Top5_States_exports_over_10yrs.png\")"
   ]
  }
 ],
 "metadata": {
  "anaconda-cloud": {},
  "kernelspec": {
   "display_name": "Python 3",
   "language": "python",
   "name": "python3"
  },
  "language_info": {
   "codemirror_mode": {
    "name": "ipython",
    "version": 3
   },
   "file_extension": ".py",
   "mimetype": "text/x-python",
   "name": "python",
   "nbconvert_exporter": "python",
   "pygments_lexer": "ipython3",
   "version": "3.6.5"
  }
 },
 "nbformat": 4,
 "nbformat_minor": 2
}
